{
  "nbformat": 4,
  "nbformat_minor": 0,
  "metadata": {
    "colab": {
      "provenance": [],
      "authorship_tag": "ABX9TyM0Bkv73hvEUnI5XYFQj2cv",
      "include_colab_link": true
    },
    "kernelspec": {
      "name": "python3",
      "display_name": "Python 3"
    },
    "language_info": {
      "name": "python"
    }
  },
  "cells": [
    {
      "cell_type": "markdown",
      "metadata": {
        "id": "view-in-github",
        "colab_type": "text"
      },
      "source": [
        "<a href=\"https://colab.research.google.com/github/krishitha1907/test1/blob/main/labexam.ipynb\" target=\"_parent\"><img src=\"https://colab.research.google.com/assets/colab-badge.svg\" alt=\"Open In Colab\"/></a>"
      ]
    },
    {
      "cell_type": "code",
      "execution_count": 1,
      "metadata": {
        "colab": {
          "base_uri": "https://localhost:8080/"
        },
        "id": "z0_aMqqi_mhX",
        "outputId": "09642a63-353c-4972-9360-90d15a032dcb"
      },
      "outputs": [
        {
          "output_type": "stream",
          "name": "stdout",
          "text": [
            "Mounted at /content/drive\n"
          ]
        }
      ],
      "source": [
        "from google.colab import drive\n",
        "drive.mount('/content/drive')"
      ]
    },
    {
      "cell_type": "code",
      "source": [
        "import pandas as pd\n",
        "df= pd.read_excel('/content/drive/MyDrive/ODD.xlsx')\n",
        "print(df)\n"
      ],
      "metadata": {
        "colab": {
          "base_uri": "https://localhost:8080/"
        },
        "id": "7yC8Kaiz_yWh",
        "outputId": "d4d14fce-618e-45ef-9171-e25251c8af43"
      },
      "execution_count": 5,
      "outputs": [
        {
          "output_type": "stream",
          "name": "stdout",
          "text": [
            "     Booking_ID Customer_ID   Destination             Travel_Dates  \\\n",
            "0      BKG01438    CUST5663     BANGALORE  2024-05-27 - 2025-06-02   \n",
            "1      BKG02701    CUST4963       Vietnam  2024/05/02 / 2025/06/28   \n",
            "2      BKG03648    cust5625         Tokyo  2023-12-02 - 2025-03-09   \n",
            "3      BKG02513    CUST4246         Delhi  2023-11-10 - 2024-09-13   \n",
            "4      bkg02903    CUST3901       Chennai  2023-11-09 - 2024-08-22   \n",
            "...         ...         ...           ...                      ...   \n",
            "5245   BKG03093    CUST4090   BRANDYVILLE  2024-01-23 - 2025-04-15   \n",
            "5246   BKG03773    CUST0249   SAINT LUCIA  2023-12-11 - 2025-01-11   \n",
            "5247   bkg04354    CUST3227         Delhi  2024-06-13 - 2025-04-10   \n",
            "5248        NaN         NaN           NaN                      NaN   \n",
            "5249   BKG00861    CUST1529  Turkmenistan  2024-05-11 - 2024-11-06   \n",
            "\n",
            "     Booking_Date  Number_of_Travelers Travel_Package Payment_Method  \\\n",
            "0      2023-07-26                  3.0        Premium     Debit Card   \n",
            "1      2024-02-05                  3.0       Standard    Credit Card   \n",
            "2      2024-07-17                  2.0            NaN            NaN   \n",
            "3      2024-03-15                  6.0         Luxury    Credit Card   \n",
            "4      2023-04-09                  3.0         Luxury         PayPal   \n",
            "...           ...                  ...            ...            ...   \n",
            "5245   2024-08-17                  3.0            NaN  Bank Transfer   \n",
            "5246   2023-04-07                  1.0            NaN            NaN   \n",
            "5247   2024-04-15                  6.0         Luxury  Bank Transfer   \n",
            "5248          NaT                  NaN            NaN            NaN   \n",
            "5249   2024-07-12                  3.0       Standard         PayPal   \n",
            "\n",
            "      Total_Cost              Travel_Agent  \\\n",
            "0       41695.84                  Bass Inc   \n",
            "1       36619.85                Wood Group   \n",
            "2       44543.87           Bridges-Collins   \n",
            "3       41053.94     Edwards, Hill and Lee   \n",
            "4       36238.26                 Hardy Inc   \n",
            "...          ...                       ...   \n",
            "5245    45823.85  King, Porter and Patrick   \n",
            "5246    28937.40              Lane-Hopkins   \n",
            "5247    63021.04                Curry-Duke   \n",
            "5248         NaN                       NaN   \n",
            "5249    77632.50   Lewis, Jones and Morgan   \n",
            "\n",
            "                                      Customer_Feedback  \n",
            "0     Power matter brother guy. Out adult perhaps ge...  \n",
            "1     Position call within size than couple. Effect ...  \n",
            "2                                                   NaN  \n",
            "3                                                   NaN  \n",
            "4                                                   NaN  \n",
            "...                                                 ...  \n",
            "5245                       Understand man remain tough.  \n",
            "5246  Scientist bank wife. Measure prevent fear imag...  \n",
            "5247  Space area above score economy happy spring in...  \n",
            "5248                                                NaN  \n",
            "5249                                                NaN  \n",
            "\n",
            "[5250 rows x 11 columns]\n"
          ]
        }
      ]
    },
    {
      "cell_type": "code",
      "source": [
        "df.head()"
      ],
      "metadata": {
        "colab": {
          "base_uri": "https://localhost:8080/",
          "height": 348
        },
        "id": "TtZOZa6wBlOR",
        "outputId": "32ec48a9-1e11-48e0-e494-28ffc722df17"
      },
      "execution_count": 6,
      "outputs": [
        {
          "output_type": "execute_result",
          "data": {
            "text/plain": [
              "  Booking_ID Customer_ID Destination             Travel_Dates Booking_Date  \\\n",
              "0   BKG01438    CUST5663   BANGALORE  2024-05-27 - 2025-06-02   2023-07-26   \n",
              "1   BKG02701    CUST4963     Vietnam  2024/05/02 / 2025/06/28   2024-02-05   \n",
              "2   BKG03648    cust5625       Tokyo  2023-12-02 - 2025-03-09   2024-07-17   \n",
              "3   BKG02513    CUST4246       Delhi  2023-11-10 - 2024-09-13   2024-03-15   \n",
              "4   bkg02903    CUST3901     Chennai  2023-11-09 - 2024-08-22   2023-04-09   \n",
              "\n",
              "   Number_of_Travelers Travel_Package Payment_Method  Total_Cost  \\\n",
              "0                  3.0        Premium     Debit Card    41695.84   \n",
              "1                  3.0       Standard    Credit Card    36619.85   \n",
              "2                  2.0            NaN            NaN    44543.87   \n",
              "3                  6.0         Luxury    Credit Card    41053.94   \n",
              "4                  3.0         Luxury         PayPal    36238.26   \n",
              "\n",
              "            Travel_Agent                                  Customer_Feedback  \n",
              "0               Bass Inc  Power matter brother guy. Out adult perhaps ge...  \n",
              "1             Wood Group  Position call within size than couple. Effect ...  \n",
              "2        Bridges-Collins                                                NaN  \n",
              "3  Edwards, Hill and Lee                                                NaN  \n",
              "4              Hardy Inc                                                NaN  "
            ],
            "text/html": [
              "\n",
              "  <div id=\"df-6e46d65c-48c3-4c7b-9e9e-420fe7cfacfe\" class=\"colab-df-container\">\n",
              "    <div>\n",
              "<style scoped>\n",
              "    .dataframe tbody tr th:only-of-type {\n",
              "        vertical-align: middle;\n",
              "    }\n",
              "\n",
              "    .dataframe tbody tr th {\n",
              "        vertical-align: top;\n",
              "    }\n",
              "\n",
              "    .dataframe thead th {\n",
              "        text-align: right;\n",
              "    }\n",
              "</style>\n",
              "<table border=\"1\" class=\"dataframe\">\n",
              "  <thead>\n",
              "    <tr style=\"text-align: right;\">\n",
              "      <th></th>\n",
              "      <th>Booking_ID</th>\n",
              "      <th>Customer_ID</th>\n",
              "      <th>Destination</th>\n",
              "      <th>Travel_Dates</th>\n",
              "      <th>Booking_Date</th>\n",
              "      <th>Number_of_Travelers</th>\n",
              "      <th>Travel_Package</th>\n",
              "      <th>Payment_Method</th>\n",
              "      <th>Total_Cost</th>\n",
              "      <th>Travel_Agent</th>\n",
              "      <th>Customer_Feedback</th>\n",
              "    </tr>\n",
              "  </thead>\n",
              "  <tbody>\n",
              "    <tr>\n",
              "      <th>0</th>\n",
              "      <td>BKG01438</td>\n",
              "      <td>CUST5663</td>\n",
              "      <td>BANGALORE</td>\n",
              "      <td>2024-05-27 - 2025-06-02</td>\n",
              "      <td>2023-07-26</td>\n",
              "      <td>3.0</td>\n",
              "      <td>Premium</td>\n",
              "      <td>Debit Card</td>\n",
              "      <td>41695.84</td>\n",
              "      <td>Bass Inc</td>\n",
              "      <td>Power matter brother guy. Out adult perhaps ge...</td>\n",
              "    </tr>\n",
              "    <tr>\n",
              "      <th>1</th>\n",
              "      <td>BKG02701</td>\n",
              "      <td>CUST4963</td>\n",
              "      <td>Vietnam</td>\n",
              "      <td>2024/05/02 / 2025/06/28</td>\n",
              "      <td>2024-02-05</td>\n",
              "      <td>3.0</td>\n",
              "      <td>Standard</td>\n",
              "      <td>Credit Card</td>\n",
              "      <td>36619.85</td>\n",
              "      <td>Wood Group</td>\n",
              "      <td>Position call within size than couple. Effect ...</td>\n",
              "    </tr>\n",
              "    <tr>\n",
              "      <th>2</th>\n",
              "      <td>BKG03648</td>\n",
              "      <td>cust5625</td>\n",
              "      <td>Tokyo</td>\n",
              "      <td>2023-12-02 - 2025-03-09</td>\n",
              "      <td>2024-07-17</td>\n",
              "      <td>2.0</td>\n",
              "      <td>NaN</td>\n",
              "      <td>NaN</td>\n",
              "      <td>44543.87</td>\n",
              "      <td>Bridges-Collins</td>\n",
              "      <td>NaN</td>\n",
              "    </tr>\n",
              "    <tr>\n",
              "      <th>3</th>\n",
              "      <td>BKG02513</td>\n",
              "      <td>CUST4246</td>\n",
              "      <td>Delhi</td>\n",
              "      <td>2023-11-10 - 2024-09-13</td>\n",
              "      <td>2024-03-15</td>\n",
              "      <td>6.0</td>\n",
              "      <td>Luxury</td>\n",
              "      <td>Credit Card</td>\n",
              "      <td>41053.94</td>\n",
              "      <td>Edwards, Hill and Lee</td>\n",
              "      <td>NaN</td>\n",
              "    </tr>\n",
              "    <tr>\n",
              "      <th>4</th>\n",
              "      <td>bkg02903</td>\n",
              "      <td>CUST3901</td>\n",
              "      <td>Chennai</td>\n",
              "      <td>2023-11-09 - 2024-08-22</td>\n",
              "      <td>2023-04-09</td>\n",
              "      <td>3.0</td>\n",
              "      <td>Luxury</td>\n",
              "      <td>PayPal</td>\n",
              "      <td>36238.26</td>\n",
              "      <td>Hardy Inc</td>\n",
              "      <td>NaN</td>\n",
              "    </tr>\n",
              "  </tbody>\n",
              "</table>\n",
              "</div>\n",
              "    <div class=\"colab-df-buttons\">\n",
              "\n",
              "  <div class=\"colab-df-container\">\n",
              "    <button class=\"colab-df-convert\" onclick=\"convertToInteractive('df-6e46d65c-48c3-4c7b-9e9e-420fe7cfacfe')\"\n",
              "            title=\"Convert this dataframe to an interactive table.\"\n",
              "            style=\"display:none;\">\n",
              "\n",
              "  <svg xmlns=\"http://www.w3.org/2000/svg\" height=\"24px\" viewBox=\"0 -960 960 960\">\n",
              "    <path d=\"M120-120v-720h720v720H120Zm60-500h600v-160H180v160Zm220 220h160v-160H400v160Zm0 220h160v-160H400v160ZM180-400h160v-160H180v160Zm440 0h160v-160H620v160ZM180-180h160v-160H180v160Zm440 0h160v-160H620v160Z\"/>\n",
              "  </svg>\n",
              "    </button>\n",
              "\n",
              "  <style>\n",
              "    .colab-df-container {\n",
              "      display:flex;\n",
              "      gap: 12px;\n",
              "    }\n",
              "\n",
              "    .colab-df-convert {\n",
              "      background-color: #E8F0FE;\n",
              "      border: none;\n",
              "      border-radius: 50%;\n",
              "      cursor: pointer;\n",
              "      display: none;\n",
              "      fill: #1967D2;\n",
              "      height: 32px;\n",
              "      padding: 0 0 0 0;\n",
              "      width: 32px;\n",
              "    }\n",
              "\n",
              "    .colab-df-convert:hover {\n",
              "      background-color: #E2EBFA;\n",
              "      box-shadow: 0px 1px 2px rgba(60, 64, 67, 0.3), 0px 1px 3px 1px rgba(60, 64, 67, 0.15);\n",
              "      fill: #174EA6;\n",
              "    }\n",
              "\n",
              "    .colab-df-buttons div {\n",
              "      margin-bottom: 4px;\n",
              "    }\n",
              "\n",
              "    [theme=dark] .colab-df-convert {\n",
              "      background-color: #3B4455;\n",
              "      fill: #D2E3FC;\n",
              "    }\n",
              "\n",
              "    [theme=dark] .colab-df-convert:hover {\n",
              "      background-color: #434B5C;\n",
              "      box-shadow: 0px 1px 3px 1px rgba(0, 0, 0, 0.15);\n",
              "      filter: drop-shadow(0px 1px 2px rgba(0, 0, 0, 0.3));\n",
              "      fill: #FFFFFF;\n",
              "    }\n",
              "  </style>\n",
              "\n",
              "    <script>\n",
              "      const buttonEl =\n",
              "        document.querySelector('#df-6e46d65c-48c3-4c7b-9e9e-420fe7cfacfe button.colab-df-convert');\n",
              "      buttonEl.style.display =\n",
              "        google.colab.kernel.accessAllowed ? 'block' : 'none';\n",
              "\n",
              "      async function convertToInteractive(key) {\n",
              "        const element = document.querySelector('#df-6e46d65c-48c3-4c7b-9e9e-420fe7cfacfe');\n",
              "        const dataTable =\n",
              "          await google.colab.kernel.invokeFunction('convertToInteractive',\n",
              "                                                    [key], {});\n",
              "        if (!dataTable) return;\n",
              "\n",
              "        const docLinkHtml = 'Like what you see? Visit the ' +\n",
              "          '<a target=\"_blank\" href=https://colab.research.google.com/notebooks/data_table.ipynb>data table notebook</a>'\n",
              "          + ' to learn more about interactive tables.';\n",
              "        element.innerHTML = '';\n",
              "        dataTable['output_type'] = 'display_data';\n",
              "        await google.colab.output.renderOutput(dataTable, element);\n",
              "        const docLink = document.createElement('div');\n",
              "        docLink.innerHTML = docLinkHtml;\n",
              "        element.appendChild(docLink);\n",
              "      }\n",
              "    </script>\n",
              "  </div>\n",
              "\n",
              "\n",
              "<div id=\"df-cc22bf3c-5127-4f27-b367-fc224ed2f071\">\n",
              "  <button class=\"colab-df-quickchart\" onclick=\"quickchart('df-cc22bf3c-5127-4f27-b367-fc224ed2f071')\"\n",
              "            title=\"Suggest charts\"\n",
              "            style=\"display:none;\">\n",
              "\n",
              "<svg xmlns=\"http://www.w3.org/2000/svg\" height=\"24px\"viewBox=\"0 0 24 24\"\n",
              "     width=\"24px\">\n",
              "    <g>\n",
              "        <path d=\"M19 3H5c-1.1 0-2 .9-2 2v14c0 1.1.9 2 2 2h14c1.1 0 2-.9 2-2V5c0-1.1-.9-2-2-2zM9 17H7v-7h2v7zm4 0h-2V7h2v10zm4 0h-2v-4h2v4z\"/>\n",
              "    </g>\n",
              "</svg>\n",
              "  </button>\n",
              "\n",
              "<style>\n",
              "  .colab-df-quickchart {\n",
              "      --bg-color: #E8F0FE;\n",
              "      --fill-color: #1967D2;\n",
              "      --hover-bg-color: #E2EBFA;\n",
              "      --hover-fill-color: #174EA6;\n",
              "      --disabled-fill-color: #AAA;\n",
              "      --disabled-bg-color: #DDD;\n",
              "  }\n",
              "\n",
              "  [theme=dark] .colab-df-quickchart {\n",
              "      --bg-color: #3B4455;\n",
              "      --fill-color: #D2E3FC;\n",
              "      --hover-bg-color: #434B5C;\n",
              "      --hover-fill-color: #FFFFFF;\n",
              "      --disabled-bg-color: #3B4455;\n",
              "      --disabled-fill-color: #666;\n",
              "  }\n",
              "\n",
              "  .colab-df-quickchart {\n",
              "    background-color: var(--bg-color);\n",
              "    border: none;\n",
              "    border-radius: 50%;\n",
              "    cursor: pointer;\n",
              "    display: none;\n",
              "    fill: var(--fill-color);\n",
              "    height: 32px;\n",
              "    padding: 0;\n",
              "    width: 32px;\n",
              "  }\n",
              "\n",
              "  .colab-df-quickchart:hover {\n",
              "    background-color: var(--hover-bg-color);\n",
              "    box-shadow: 0 1px 2px rgba(60, 64, 67, 0.3), 0 1px 3px 1px rgba(60, 64, 67, 0.15);\n",
              "    fill: var(--button-hover-fill-color);\n",
              "  }\n",
              "\n",
              "  .colab-df-quickchart-complete:disabled,\n",
              "  .colab-df-quickchart-complete:disabled:hover {\n",
              "    background-color: var(--disabled-bg-color);\n",
              "    fill: var(--disabled-fill-color);\n",
              "    box-shadow: none;\n",
              "  }\n",
              "\n",
              "  .colab-df-spinner {\n",
              "    border: 2px solid var(--fill-color);\n",
              "    border-color: transparent;\n",
              "    border-bottom-color: var(--fill-color);\n",
              "    animation:\n",
              "      spin 1s steps(1) infinite;\n",
              "  }\n",
              "\n",
              "  @keyframes spin {\n",
              "    0% {\n",
              "      border-color: transparent;\n",
              "      border-bottom-color: var(--fill-color);\n",
              "      border-left-color: var(--fill-color);\n",
              "    }\n",
              "    20% {\n",
              "      border-color: transparent;\n",
              "      border-left-color: var(--fill-color);\n",
              "      border-top-color: var(--fill-color);\n",
              "    }\n",
              "    30% {\n",
              "      border-color: transparent;\n",
              "      border-left-color: var(--fill-color);\n",
              "      border-top-color: var(--fill-color);\n",
              "      border-right-color: var(--fill-color);\n",
              "    }\n",
              "    40% {\n",
              "      border-color: transparent;\n",
              "      border-right-color: var(--fill-color);\n",
              "      border-top-color: var(--fill-color);\n",
              "    }\n",
              "    60% {\n",
              "      border-color: transparent;\n",
              "      border-right-color: var(--fill-color);\n",
              "    }\n",
              "    80% {\n",
              "      border-color: transparent;\n",
              "      border-right-color: var(--fill-color);\n",
              "      border-bottom-color: var(--fill-color);\n",
              "    }\n",
              "    90% {\n",
              "      border-color: transparent;\n",
              "      border-bottom-color: var(--fill-color);\n",
              "    }\n",
              "  }\n",
              "</style>\n",
              "\n",
              "  <script>\n",
              "    async function quickchart(key) {\n",
              "      const quickchartButtonEl =\n",
              "        document.querySelector('#' + key + ' button');\n",
              "      quickchartButtonEl.disabled = true;  // To prevent multiple clicks.\n",
              "      quickchartButtonEl.classList.add('colab-df-spinner');\n",
              "      try {\n",
              "        const charts = await google.colab.kernel.invokeFunction(\n",
              "            'suggestCharts', [key], {});\n",
              "      } catch (error) {\n",
              "        console.error('Error during call to suggestCharts:', error);\n",
              "      }\n",
              "      quickchartButtonEl.classList.remove('colab-df-spinner');\n",
              "      quickchartButtonEl.classList.add('colab-df-quickchart-complete');\n",
              "    }\n",
              "    (() => {\n",
              "      let quickchartButtonEl =\n",
              "        document.querySelector('#df-cc22bf3c-5127-4f27-b367-fc224ed2f071 button');\n",
              "      quickchartButtonEl.style.display =\n",
              "        google.colab.kernel.accessAllowed ? 'block' : 'none';\n",
              "    })();\n",
              "  </script>\n",
              "</div>\n",
              "\n",
              "    </div>\n",
              "  </div>\n"
            ],
            "application/vnd.google.colaboratory.intrinsic+json": {
              "type": "dataframe",
              "variable_name": "df",
              "summary": "{\n  \"name\": \"df\",\n  \"rows\": 5250,\n  \"fields\": [\n    {\n      \"column\": \"Booking_ID\",\n      \"properties\": {\n        \"dtype\": \"string\",\n        \"num_unique_values\": 5100,\n        \"samples\": [\n          \"BKG04410\",\n          \"BKG03161\",\n          \"BKG04516\"\n        ],\n        \"semantic_type\": \"\",\n        \"description\": \"\"\n      }\n    },\n    {\n      \"column\": \"Customer_ID\",\n      \"properties\": {\n        \"dtype\": \"string\",\n        \"num_unique_values\": 4118,\n        \"samples\": [\n          \"CUST2498\",\n          \"CUST8004\",\n          \"CUST6354\"\n        ],\n        \"semantic_type\": \"\",\n        \"description\": \"\"\n      }\n    },\n    {\n      \"column\": \"Destination\",\n      \"properties\": {\n        \"dtype\": \"category\",\n        \"num_unique_values\": 858,\n        \"samples\": [\n          \"West Jamie\",\n          \"West Laurafort\",\n          \"Hungary\"\n        ],\n        \"semantic_type\": \"\",\n        \"description\": \"\"\n      }\n    },\n    {\n      \"column\": \"Travel_Dates\",\n      \"properties\": {\n        \"dtype\": \"string\",\n        \"num_unique_values\": 5013,\n        \"samples\": [\n          \"2023/09/19 / 2025/04/13\",\n          \"2023-10-26 - 2025-03-19\",\n          \"2023-12-29 - 2024-11-20\"\n        ],\n        \"semantic_type\": \"\",\n        \"description\": \"\"\n      }\n    },\n    {\n      \"column\": \"Booking_Date\",\n      \"properties\": {\n        \"dtype\": \"date\",\n        \"min\": \"2022-08-20 00:00:00\",\n        \"max\": \"2024-08-19 00:00:00\",\n        \"num_unique_values\": 731,\n        \"samples\": [\n          \"2022-12-23 00:00:00\",\n          \"2024-07-03 00:00:00\",\n          \"2022-11-24 00:00:00\"\n        ],\n        \"semantic_type\": \"\",\n        \"description\": \"\"\n      }\n    },\n    {\n      \"column\": \"Number_of_Travelers\",\n      \"properties\": {\n        \"dtype\": \"number\",\n        \"std\": 2.4915853697745103,\n        \"min\": 1.0,\n        \"max\": 10.0,\n        \"num_unique_values\": 10,\n        \"samples\": [\n          7.0,\n          2.0,\n          9.0\n        ],\n        \"semantic_type\": \"\",\n        \"description\": \"\"\n      }\n    },\n    {\n      \"column\": \"Travel_Package\",\n      \"properties\": {\n        \"dtype\": \"category\",\n        \"num_unique_values\": 3,\n        \"samples\": [\n          \"Premium\",\n          \"Standard\",\n          \"Luxury\"\n        ],\n        \"semantic_type\": \"\",\n        \"description\": \"\"\n      }\n    },\n    {\n      \"column\": \"Payment_Method\",\n      \"properties\": {\n        \"dtype\": \"category\",\n        \"num_unique_values\": 4,\n        \"samples\": [\n          \"Credit Card\",\n          \"Bank Transfer\",\n          \"Debit Card\"\n        ],\n        \"semantic_type\": \"\",\n        \"description\": \"\"\n      }\n    },\n    {\n      \"column\": \"Total_Cost\",\n      \"properties\": {\n        \"dtype\": \"number\",\n        \"std\": 27720.30432779792,\n        \"min\": 5010.98,\n        \"max\": 99979.71,\n        \"num_unique_values\": 4841,\n        \"samples\": [\n          22171.87,\n          7710.43,\n          85398.74\n        ],\n        \"semantic_type\": \"\",\n        \"description\": \"\"\n      }\n    },\n    {\n      \"column\": \"Travel_Agent\",\n      \"properties\": {\n        \"dtype\": \"string\",\n        \"num_unique_values\": 4010,\n        \"samples\": [\n          \"Johns-Campos\",\n          \"Walsh, Cross and Davies\",\n          \"Williamson PLC\"\n        ],\n        \"semantic_type\": \"\",\n        \"description\": \"\"\n      }\n    },\n    {\n      \"column\": \"Customer_Feedback\",\n      \"properties\": {\n        \"dtype\": \"category\",\n        \"num_unique_values\": 2572,\n        \"samples\": [\n          \"Spend share book soon. Begin draw Congress level. Nation compare recent buy south early.\",\n          \"Entire hundred boy property him change any. Likely purpose consumer decade.\",\n          \"Leave challenge agreement say mission. Raise question last discuss girl.\"\n        ],\n        \"semantic_type\": \"\",\n        \"description\": \"\"\n      }\n    }\n  ]\n}"
            }
          },
          "metadata": {},
          "execution_count": 6
        }
      ]
    },
    {
      "cell_type": "code",
      "source": [
        "print(df['Number_of_Travelers'])"
      ],
      "metadata": {
        "colab": {
          "base_uri": "https://localhost:8080/"
        },
        "id": "jTyqaqcdJ6NZ",
        "outputId": "b8a0d50d-6ea4-40ea-b0d7-c04664effbcb"
      },
      "execution_count": 27,
      "outputs": [
        {
          "output_type": "stream",
          "name": "stdout",
          "text": [
            "0       3.0\n",
            "1       3.0\n",
            "2       2.0\n",
            "3       6.0\n",
            "4       3.0\n",
            "       ... \n",
            "5245    3.0\n",
            "5246    1.0\n",
            "5247    6.0\n",
            "5248    NaN\n",
            "5249    3.0\n",
            "Name: Number_of_Travelers, Length: 5250, dtype: float64\n"
          ]
        }
      ]
    },
    {
      "cell_type": "code",
      "source": [
        "print(df['Number_of_Travelers'].isna())"
      ],
      "metadata": {
        "colab": {
          "base_uri": "https://localhost:8080/"
        },
        "id": "7-0mA2LZKClo",
        "outputId": "1a86bd6b-3b41-43bf-b8ee-e3a50199f20d"
      },
      "execution_count": 28,
      "outputs": [
        {
          "output_type": "stream",
          "name": "stdout",
          "text": [
            "0       False\n",
            "1       False\n",
            "2       False\n",
            "3       False\n",
            "4       False\n",
            "        ...  \n",
            "5245    False\n",
            "5246    False\n",
            "5247    False\n",
            "5248     True\n",
            "5249    False\n",
            "Name: Number_of_Travelers, Length: 5250, dtype: bool\n"
          ]
        }
      ]
    },
    {
      "cell_type": "code",
      "source": [
        "print(df.groupby('Destination')['Total_Cost'].mean())"
      ],
      "metadata": {
        "colab": {
          "base_uri": "https://localhost:8080/"
        },
        "id": "LPNGz70mCV6J",
        "outputId": "66dc4fb3-eeee-4379-9ca6-ea25dc8b988d"
      },
      "execution_count": 16,
      "outputs": [
        {
          "output_type": "stream",
          "name": "stdout",
          "text": [
            "Destination\n",
            "ALBANIA           73664.210000\n",
            "ALEJANDROSHIRE    78168.730000\n",
            "ARUBA              8573.290000\n",
            "Adamsbury         22309.600000\n",
            "Adamsfurt         15705.440000\n",
            "                      ...     \n",
            "Zacharyberg       41751.850000\n",
            "Zambia            20658.930000\n",
            "Zamoramouth       84404.310000\n",
            "Zimbabwe          31329.406667\n",
            "Zimmermantown     59139.600000\n",
            "Name: Total_Cost, Length: 858, dtype: float64\n"
          ]
        }
      ]
    },
    {
      "cell_type": "code",
      "source": [
        "print(df['Destination'].value_counts())"
      ],
      "metadata": {
        "colab": {
          "base_uri": "https://localhost:8080/"
        },
        "id": "KQAcr7QgGksh",
        "outputId": "a09a1bba-6198-4bbb-9654-58ad36078db4"
      },
      "execution_count": 17,
      "outputs": [
        {
          "output_type": "stream",
          "name": "stdout",
          "text": [
            "Destination\n",
            "Hyderabad           586\n",
            "Bangalore           570\n",
            "Chennai             568\n",
            "Mumbai              558\n",
            "Delhi               539\n",
            "                   ... \n",
            "South Cherylland      1\n",
            "West Christopher      1\n",
            "Stephaniebury         1\n",
            "Port Robertville      1\n",
            "Turkmenistan          1\n",
            "Name: count, Length: 858, dtype: int64\n"
          ]
        }
      ]
    },
    {
      "cell_type": "code",
      "source": [
        "print(df['Booking_Date'] == pd.to_datetime(df['Booking_Date']))"
      ],
      "metadata": {
        "colab": {
          "base_uri": "https://localhost:8080/"
        },
        "id": "V4fgEwwuG1Lg",
        "outputId": "0b290b4a-4108-497b-d900-1222c7fb022f"
      },
      "execution_count": 19,
      "outputs": [
        {
          "output_type": "stream",
          "name": "stdout",
          "text": [
            "0        True\n",
            "1        True\n",
            "2        True\n",
            "3        True\n",
            "4        True\n",
            "        ...  \n",
            "5245     True\n",
            "5246     True\n",
            "5247     True\n",
            "5248    False\n",
            "5249     True\n",
            "Name: Booking_Date, Length: 5250, dtype: bool\n"
          ]
        }
      ]
    },
    {
      "cell_type": "code",
      "source": [
        "print(df['Travel_Dates'].value_counts())"
      ],
      "metadata": {
        "colab": {
          "base_uri": "https://localhost:8080/"
        },
        "id": "3Lg9aD99HuZZ",
        "outputId": "36bd17c8-58cb-4cfd-8d29-6e6144db2426"
      },
      "execution_count": 31,
      "outputs": [
        {
          "output_type": "stream",
          "name": "stdout",
          "text": [
            "Travel_Dates\n",
            "2023-12-02 - 2025-05-09    3\n",
            "2023-09-18 - 2025-06-07    3\n",
            "2023-09-21 - 2025-03-08    2\n",
            "2024-01-13 - 2025-07-06    2\n",
            "2024-01-03 - 2024-11-26    2\n",
            "                          ..\n",
            "2024-06-26 - 2025-07-06    1\n",
            "2023-08-22 - 2025-07-04    1\n",
            "2023-11-22 - 2024-12-27    1\n",
            "2023-10-12 - 2024-10-26    1\n",
            "2024-05-11 - 2024-11-06    1\n",
            "Name: count, Length: 5013, dtype: int64\n"
          ]
        }
      ]
    },
    {
      "cell_type": "code",
      "source": [
        "range1=str(df['Travel_Dates'].dt.date.min())+'to'+str(df['Travel_Dates'].dt.date.max())\n",
        "print(range1)"
      ],
      "metadata": {
        "colab": {
          "base_uri": "https://localhost:8080/",
          "height": 269
        },
        "id": "0PlYLZ6cDVW5",
        "outputId": "d7c71a57-8b16-4f78-b979-3015371197ab"
      },
      "execution_count": 36,
      "outputs": [
        {
          "output_type": "error",
          "ename": "AttributeError",
          "evalue": "Can only use .dt accessor with datetimelike values",
          "traceback": [
            "\u001b[0;31m---------------------------------------------------------------------------\u001b[0m",
            "\u001b[0;31mAttributeError\u001b[0m                            Traceback (most recent call last)",
            "\u001b[0;32m<ipython-input-36-c703845959a0>\u001b[0m in \u001b[0;36m<cell line: 0>\u001b[0;34m()\u001b[0m\n\u001b[0;32m----> 1\u001b[0;31m \u001b[0mrange1\u001b[0m\u001b[0;34m=\u001b[0m\u001b[0mstr\u001b[0m\u001b[0;34m(\u001b[0m\u001b[0mdf\u001b[0m\u001b[0;34m[\u001b[0m\u001b[0;34m'Travel_Dates'\u001b[0m\u001b[0;34m]\u001b[0m\u001b[0;34m.\u001b[0m\u001b[0mdt\u001b[0m\u001b[0;34m.\u001b[0m\u001b[0mdate\u001b[0m\u001b[0;34m.\u001b[0m\u001b[0mmin\u001b[0m\u001b[0;34m(\u001b[0m\u001b[0;34m)\u001b[0m\u001b[0;34m)\u001b[0m\u001b[0;34m+\u001b[0m\u001b[0;34m'to'\u001b[0m\u001b[0;34m+\u001b[0m\u001b[0mstr\u001b[0m\u001b[0;34m(\u001b[0m\u001b[0mdf\u001b[0m\u001b[0;34m[\u001b[0m\u001b[0;34m'Travel_Dates'\u001b[0m\u001b[0;34m]\u001b[0m\u001b[0;34m.\u001b[0m\u001b[0mdt\u001b[0m\u001b[0;34m.\u001b[0m\u001b[0mdate\u001b[0m\u001b[0;34m.\u001b[0m\u001b[0mmax\u001b[0m\u001b[0;34m(\u001b[0m\u001b[0;34m)\u001b[0m\u001b[0;34m)\u001b[0m\u001b[0;34m\u001b[0m\u001b[0;34m\u001b[0m\u001b[0m\n\u001b[0m\u001b[1;32m      2\u001b[0m \u001b[0mprint\u001b[0m\u001b[0;34m(\u001b[0m\u001b[0mrange1\u001b[0m\u001b[0;34m)\u001b[0m\u001b[0;34m\u001b[0m\u001b[0;34m\u001b[0m\u001b[0m\n",
            "\u001b[0;32m/usr/local/lib/python3.11/dist-packages/pandas/core/generic.py\u001b[0m in \u001b[0;36m__getattr__\u001b[0;34m(self, name)\u001b[0m\n\u001b[1;32m   6297\u001b[0m         ):\n\u001b[1;32m   6298\u001b[0m             \u001b[0;32mreturn\u001b[0m \u001b[0mself\u001b[0m\u001b[0;34m[\u001b[0m\u001b[0mname\u001b[0m\u001b[0;34m]\u001b[0m\u001b[0;34m\u001b[0m\u001b[0;34m\u001b[0m\u001b[0m\n\u001b[0;32m-> 6299\u001b[0;31m         \u001b[0;32mreturn\u001b[0m \u001b[0mobject\u001b[0m\u001b[0;34m.\u001b[0m\u001b[0m__getattribute__\u001b[0m\u001b[0;34m(\u001b[0m\u001b[0mself\u001b[0m\u001b[0;34m,\u001b[0m \u001b[0mname\u001b[0m\u001b[0;34m)\u001b[0m\u001b[0;34m\u001b[0m\u001b[0;34m\u001b[0m\u001b[0m\n\u001b[0m\u001b[1;32m   6300\u001b[0m \u001b[0;34m\u001b[0m\u001b[0m\n\u001b[1;32m   6301\u001b[0m     \u001b[0;34m@\u001b[0m\u001b[0mfinal\u001b[0m\u001b[0;34m\u001b[0m\u001b[0;34m\u001b[0m\u001b[0m\n",
            "\u001b[0;32m/usr/local/lib/python3.11/dist-packages/pandas/core/accessor.py\u001b[0m in \u001b[0;36m__get__\u001b[0;34m(self, obj, cls)\u001b[0m\n\u001b[1;32m    222\u001b[0m             \u001b[0;31m# we're accessing the attribute of the class, i.e., Dataset.geo\u001b[0m\u001b[0;34m\u001b[0m\u001b[0;34m\u001b[0m\u001b[0m\n\u001b[1;32m    223\u001b[0m             \u001b[0;32mreturn\u001b[0m \u001b[0mself\u001b[0m\u001b[0;34m.\u001b[0m\u001b[0m_accessor\u001b[0m\u001b[0;34m\u001b[0m\u001b[0;34m\u001b[0m\u001b[0m\n\u001b[0;32m--> 224\u001b[0;31m         \u001b[0maccessor_obj\u001b[0m \u001b[0;34m=\u001b[0m \u001b[0mself\u001b[0m\u001b[0;34m.\u001b[0m\u001b[0m_accessor\u001b[0m\u001b[0;34m(\u001b[0m\u001b[0mobj\u001b[0m\u001b[0;34m)\u001b[0m\u001b[0;34m\u001b[0m\u001b[0;34m\u001b[0m\u001b[0m\n\u001b[0m\u001b[1;32m    225\u001b[0m         \u001b[0;31m# Replace the property with the accessor object. Inspired by:\u001b[0m\u001b[0;34m\u001b[0m\u001b[0;34m\u001b[0m\u001b[0m\n\u001b[1;32m    226\u001b[0m         \u001b[0;31m# https://www.pydanny.com/cached-property.html\u001b[0m\u001b[0;34m\u001b[0m\u001b[0;34m\u001b[0m\u001b[0m\n",
            "\u001b[0;32m/usr/local/lib/python3.11/dist-packages/pandas/core/indexes/accessors.py\u001b[0m in \u001b[0;36m__new__\u001b[0;34m(cls, data)\u001b[0m\n\u001b[1;32m    641\u001b[0m             \u001b[0;32mreturn\u001b[0m \u001b[0mPeriodProperties\u001b[0m\u001b[0;34m(\u001b[0m\u001b[0mdata\u001b[0m\u001b[0;34m,\u001b[0m \u001b[0morig\u001b[0m\u001b[0;34m)\u001b[0m\u001b[0;34m\u001b[0m\u001b[0;34m\u001b[0m\u001b[0m\n\u001b[1;32m    642\u001b[0m \u001b[0;34m\u001b[0m\u001b[0m\n\u001b[0;32m--> 643\u001b[0;31m         \u001b[0;32mraise\u001b[0m \u001b[0mAttributeError\u001b[0m\u001b[0;34m(\u001b[0m\u001b[0;34m\"Can only use .dt accessor with datetimelike values\"\u001b[0m\u001b[0;34m)\u001b[0m\u001b[0;34m\u001b[0m\u001b[0;34m\u001b[0m\u001b[0m\n\u001b[0m",
            "\u001b[0;31mAttributeError\u001b[0m: Can only use .dt accessor with datetimelike values"
          ]
        }
      ]
    },
    {
      "cell_type": "code",
      "source": [],
      "metadata": {
        "id": "q_LVodywF7MZ"
      },
      "execution_count": null,
      "outputs": []
    }
  ]
}